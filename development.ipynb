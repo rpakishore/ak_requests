{
 "cells": [
  {
   "cell_type": "code",
   "execution_count": 3,
   "metadata": {},
   "outputs": [],
   "source": [
    "from ak_requests import RequestsSession\n",
    "\n",
    "# Initialize session\n",
    "session = RequestsSession(log=False, retries=5, log_level='error') \n",
    "\n",
    "# Update custom header\n",
    "session.update_header({'Connection': 'keep-alive'})\n",
    "\n",
    "# set cookies\n",
    "session.update_cookies([{'name':'has_recent_activity', 'value':'1'}])\n",
    "\n",
    "# Get requests\n",
    "session.get('https://reqres.in/api/users?page=2', data={}, proxies = {} ) # Can accept any requests parameters\n",
    "\n",
    "# Change min time bet. requests\n",
    "session.MIN_REQUEST_GAP = 1.5 # seconds\n",
    "\n",
    "# Make bulk requests\n",
    "urls = ['https://reqres.in/api/users?page=2', 'https://reqres.in/api/unknown']\n",
    "responses = session.bulk_get(urls)"
   ]
  }
 ],
 "metadata": {
  "kernelspec": {
   "display_name": ".venv",
   "language": "python",
   "name": "python3"
  },
  "language_info": {
   "codemirror_mode": {
    "name": "ipython",
    "version": 3
   },
   "file_extension": ".py",
   "mimetype": "text/x-python",
   "name": "python",
   "nbconvert_exporter": "python",
   "pygments_lexer": "ipython3",
   "version": "3.11.4"
  },
  "orig_nbformat": 4
 },
 "nbformat": 4,
 "nbformat_minor": 2
}
